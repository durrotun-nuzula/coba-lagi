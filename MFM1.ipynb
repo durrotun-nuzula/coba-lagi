{
 "cells": [
  {
   "cell_type": "code",
   "execution_count": 1,
   "metadata": {},
   "outputs": [
    {
     "data": {
      "text/plain": [
       "5"
      ]
     },
     "execution_count": 1,
     "metadata": {},
     "output_type": "execute_result"
    }
   ],
   "source": [
    "3+2"
   ]
  },
  {
   "cell_type": "code",
   "execution_count": 2,
   "metadata": {},
   "outputs": [
    {
     "data": {
      "text/plain": [
       "100"
      ]
     },
     "execution_count": 2,
     "metadata": {},
     "output_type": "execute_result"
    }
   ],
   "source": [
    "10**2"
   ]
  },
  {
   "cell_type": "code",
   "execution_count": 3,
   "metadata": {},
   "outputs": [
    {
     "name": "stdout",
     "output_type": "stream",
     "text": [
      "fifi\n"
     ]
    }
   ],
   "source": [
    "print(\"fifi\")"
   ]
  },
  {
   "cell_type": "code",
   "execution_count": 4,
   "metadata": {},
   "outputs": [
    {
     "name": "stdout",
     "output_type": "stream",
     "text": [
      "fifi\n"
     ]
    }
   ],
   "source": [
    "print('fifi')"
   ]
  },
  {
   "cell_type": "code",
   "execution_count": 5,
   "metadata": {
    "collapsed": true
   },
   "outputs": [],
   "source": [
    "n=5"
   ]
  },
  {
   "cell_type": "code",
   "execution_count": 6,
   "metadata": {},
   "outputs": [
    {
     "name": "stdout",
     "output_type": "stream",
     "text": [
      "erald 5  nyasar\n"
     ]
    }
   ],
   "source": [
    "print(\"erald\", n, \" nyasar\")"
   ]
  },
  {
   "cell_type": "code",
   "execution_count": 7,
   "metadata": {},
   "outputs": [
    {
     "name": "stdout",
     "output_type": "stream",
     "text": [
      "erald \"\" nyasar\n"
     ]
    }
   ],
   "source": [
    "print('erald \"\" nyasar')"
   ]
  },
  {
   "cell_type": "markdown",
   "metadata": {},
   "source": [
    "# DASAR POLL"
   ]
  },
  {
   "cell_type": "code",
   "execution_count": 9,
   "metadata": {
    "collapsed": true
   },
   "outputs": [],
   "source": [
    "#OOP objek dulu baru function"
   ]
  },
  {
   "cell_type": "code",
   "execution_count": 10,
   "metadata": {
    "collapsed": true
   },
   "outputs": [],
   "source": [
    "z=\"saya fifi\""
   ]
  },
  {
   "cell_type": "code",
   "execution_count": 12,
   "metadata": {},
   "outputs": [
    {
     "data": {
      "text/plain": [
       "'Saya fifi'"
      ]
     },
     "execution_count": 12,
     "metadata": {},
     "output_type": "execute_result"
    }
   ],
   "source": [
    "z.capitalize()  #z=objek  capitalize=function"
   ]
  },
  {
   "cell_type": "code",
   "execution_count": 14,
   "metadata": {},
   "outputs": [
    {
     "data": {
      "text/plain": [
       "'SAYA FIFI'"
      ]
     },
     "execution_count": 14,
     "metadata": {},
     "output_type": "execute_result"
    }
   ],
   "source": [
    "z.upper()  #shift+tab untuk memunculkan deskripsi"
   ]
  },
  {
   "cell_type": "code",
   "execution_count": 15,
   "metadata": {
    "collapsed": true
   },
   "outputs": [],
   "source": [
    "y=4 #type int"
   ]
  },
  {
   "cell_type": "code",
   "execution_count": 16,
   "metadata": {},
   "outputs": [
    {
     "data": {
      "text/plain": [
       "'4'"
      ]
     },
     "execution_count": 16,
     "metadata": {},
     "output_type": "execute_result"
    }
   ],
   "source": [
    "str(y) #type string"
   ]
  },
  {
   "cell_type": "code",
   "execution_count": 17,
   "metadata": {},
   "outputs": [
    {
     "name": "stdout",
     "output_type": "stream",
     "text": [
      "Format ke-400\n"
     ]
    }
   ],
   "source": [
    "print(\"Format ke-{}\".format(y*100)) #dikasih {} jika functionnya panjang"
   ]
  },
  {
   "cell_type": "code",
   "execution_count": 18,
   "metadata": {
    "collapsed": true
   },
   "outputs": [],
   "source": [
    "buah = [\"pisang\", \"anggur\", \"semangka\", \"jeruk\"] #type data list"
   ]
  },
  {
   "cell_type": "code",
   "execution_count": 19,
   "metadata": {},
   "outputs": [
    {
     "data": {
      "text/plain": [
       "['pisang', 'anggur', 'semangka', 'jeruk']"
      ]
     },
     "execution_count": 19,
     "metadata": {},
     "output_type": "execute_result"
    }
   ],
   "source": [
    "buah"
   ]
  },
  {
   "cell_type": "code",
   "execution_count": 20,
   "metadata": {},
   "outputs": [
    {
     "data": {
      "text/plain": [
       "'jeruk'"
      ]
     },
     "execution_count": 20,
     "metadata": {},
     "output_type": "execute_result"
    }
   ],
   "source": [
    "buah.pop() #menghilangkan yang terakhir"
   ]
  },
  {
   "cell_type": "code",
   "execution_count": 21,
   "metadata": {},
   "outputs": [
    {
     "data": {
      "text/plain": [
       "['pisang', 'anggur', 'semangka']"
      ]
     },
     "execution_count": 21,
     "metadata": {},
     "output_type": "execute_result"
    }
   ],
   "source": [
    "buah"
   ]
  },
  {
   "cell_type": "code",
   "execution_count": 22,
   "metadata": {
    "collapsed": true
   },
   "outputs": [],
   "source": [
    "buah.remove(\"anggur\")"
   ]
  },
  {
   "cell_type": "code",
   "execution_count": 23,
   "metadata": {},
   "outputs": [
    {
     "data": {
      "text/plain": [
       "['pisang', 'semangka']"
      ]
     },
     "execution_count": 23,
     "metadata": {},
     "output_type": "execute_result"
    }
   ],
   "source": [
    "buah"
   ]
  },
  {
   "cell_type": "code",
   "execution_count": 24,
   "metadata": {
    "collapsed": true
   },
   "outputs": [],
   "source": [
    "buah.insert(1,\"durian\")"
   ]
  },
  {
   "cell_type": "code",
   "execution_count": 25,
   "metadata": {},
   "outputs": [
    {
     "data": {
      "text/plain": [
       "['pisang', 'durian', 'semangka']"
      ]
     },
     "execution_count": 25,
     "metadata": {},
     "output_type": "execute_result"
    }
   ],
   "source": [
    "buah "
   ]
  },
  {
   "cell_type": "code",
   "execution_count": 31,
   "metadata": {},
   "outputs": [
    {
     "name": "stdout",
     "output_type": "stream",
     "text": [
      "pisang\n",
      "durian\n",
      "semangka\n"
     ]
    }
   ],
   "source": [
    "for i in buah:\n",
    "    print(i)"
   ]
  },
  {
   "cell_type": "code",
   "execution_count": 32,
   "metadata": {
    "collapsed": true
   },
   "outputs": [],
   "source": [
    "#keyword shortcut ketik \"h\""
   ]
  },
  {
   "cell_type": "code",
   "execution_count": 33,
   "metadata": {
    "collapsed": true
   },
   "outputs": [],
   "source": [
    "jumlah_buah=[1,2,3]"
   ]
  },
  {
   "cell_type": "code",
   "execution_count": 34,
   "metadata": {},
   "outputs": [
    {
     "data": {
      "text/plain": [
       "['pisang', 'durian', 'semangka']"
      ]
     },
     "execution_count": 34,
     "metadata": {},
     "output_type": "execute_result"
    }
   ],
   "source": [
    "buah"
   ]
  },
  {
   "cell_type": "code",
   "execution_count": 35,
   "metadata": {},
   "outputs": [
    {
     "data": {
      "text/plain": [
       "3"
      ]
     },
     "execution_count": 35,
     "metadata": {},
     "output_type": "execute_result"
    }
   ],
   "source": [
    "len(buah)"
   ]
  },
  {
   "cell_type": "code",
   "execution_count": 36,
   "metadata": {},
   "outputs": [
    {
     "name": "stdout",
     "output_type": "stream",
     "text": [
      "0\n",
      "1\n",
      "2\n"
     ]
    }
   ],
   "source": [
    "for i in range(len(buah)):\n",
    "    print(i)  #menampilkan index dari buah"
   ]
  },
  {
   "cell_type": "code",
   "execution_count": 37,
   "metadata": {},
   "outputs": [
    {
     "name": "stdout",
     "output_type": "stream",
     "text": [
      "pisangjumlahnya sebanyak1\n",
      "durianjumlahnya sebanyak2\n",
      "semangkajumlahnya sebanyak3\n"
     ]
    }
   ],
   "source": [
    "for e in range(len(buah)):\n",
    "    print (str(buah[e])+\"jumlahnya sebanyak\" + str(jumlah_buah[e]))"
   ]
  },
  {
   "cell_type": "code",
   "execution_count": 41,
   "metadata": {},
   "outputs": [
    {
     "name": "stdout",
     "output_type": "stream",
     "text": [
      "Mas Doni membeli pisang sebanyak 1\n",
      "Mas Alfan membeli durian sebanyak 2\n",
      "Adam membeli semangka sebanyak 3\n"
     ]
    }
   ],
   "source": [
    "pelanggan = ['Mas Doni', 'Mas Alfan', 'Adam']\n",
    "for k in range(len(buah)):\n",
    "    print (str(pelanggan[k]) + \" membeli \" + str(buah[k]) + \" sebanyak \" + str(jumlah_buah[k]))"
   ]
  },
  {
   "cell_type": "code",
   "execution_count": 42,
   "metadata": {
    "collapsed": true
   },
   "outputs": [],
   "source": [
    "a=1"
   ]
  },
  {
   "cell_type": "code",
   "execution_count": 43,
   "metadata": {},
   "outputs": [
    {
     "name": "stdout",
     "output_type": "stream",
     "text": [
      "1\n",
      "2\n",
      "3\n",
      "4\n",
      "5\n",
      "6\n",
      "7\n",
      "8\n",
      "9\n"
     ]
    }
   ],
   "source": [
    "while a < 10 :\n",
    "    print(a)\n",
    "    a=a+1  #while akan merubah objek looping"
   ]
  },
  {
   "cell_type": "code",
   "execution_count": 44,
   "metadata": {},
   "outputs": [
    {
     "data": {
      "text/plain": [
       "10"
      ]
     },
     "execution_count": 44,
     "metadata": {},
     "output_type": "execute_result"
    }
   ],
   "source": [
    "a"
   ]
  },
  {
   "cell_type": "code",
   "execution_count": 46,
   "metadata": {
    "collapsed": true
   },
   "outputs": [],
   "source": [
    "pelanggan_kopi = 'Mas doni'"
   ]
  },
  {
   "cell_type": "code",
   "execution_count": 47,
   "metadata": {
    "collapsed": true
   },
   "outputs": [],
   "source": [
    "kopi =['Kapal Api', 'Torabica', 'Nescafe', 'Kopi Luwak']"
   ]
  },
  {
   "cell_type": "code",
   "execution_count": 69,
   "metadata": {
    "collapsed": true
   },
   "outputs": [],
   "source": [
    "jumlah = 0"
   ]
  },
  {
   "cell_type": "code",
   "execution_count": 70,
   "metadata": {},
   "outputs": [
    {
     "name": "stdout",
     "output_type": "stream",
     "text": [
      "Mas doni membeli Kapal Api\n",
      "Mas doni membeli Torabica\n",
      "Mas doni membeli Nescafe\n",
      "Mas doni membeli Kopi Luwak\n"
     ]
    }
   ],
   "source": [
    "while jumlah < len(kopi) :\n",
    "    print (str(pelanggan_kopi) + \" membeli \" + str(kopi[jumlah]) )\n",
    "    jumlah=jumlah+1"
   ]
  },
  {
   "cell_type": "code",
   "execution_count": 71,
   "metadata": {},
   "outputs": [
    {
     "data": {
      "text/plain": [
       "4"
      ]
     },
     "execution_count": 71,
     "metadata": {},
     "output_type": "execute_result"
    }
   ],
   "source": [
    "jumlah"
   ]
  },
  {
   "cell_type": "code",
   "execution_count": 73,
   "metadata": {
    "collapsed": true
   },
   "outputs": [],
   "source": [
    "#while ketika ada syarat \n",
    "#for ketika perulangannya sudah pasti (sampai akhir)"
   ]
  },
  {
   "cell_type": "code",
   "execution_count": 74,
   "metadata": {},
   "outputs": [
    {
     "name": "stdout",
     "output_type": "stream",
     "text": [
      "Mas doni membeli Kapal Api\n",
      "Mas doni membeli Torabica\n",
      "Mas doni membeli Nescafe\n",
      "Mas doni membeli Kopi Luwak\n"
     ]
    }
   ],
   "source": [
    "for b in kopi:\n",
    "    print(pelanggan_kopi + \" membeli \"+ b)"
   ]
  },
  {
   "cell_type": "code",
   "execution_count": 75,
   "metadata": {
    "collapsed": true
   },
   "outputs": [],
   "source": [
    "x= 5"
   ]
  },
  {
   "cell_type": "code",
   "execution_count": 77,
   "metadata": {},
   "outputs": [
    {
     "name": "stdout",
     "output_type": "stream",
     "text": [
      "5 bilangan ganjil\n"
     ]
    }
   ],
   "source": [
    "if x % 2 == 1:\n",
    "    print (str(x) + \" bilangan ganjil\")\n",
    "else :\n",
    "    print (str(x) + \"bilangan genap\")"
   ]
  },
  {
   "cell_type": "code",
   "execution_count": 79,
   "metadata": {},
   "outputs": [
    {
     "name": "stdout",
     "output_type": "stream",
     "text": [
      "8 bilangan genap\n"
     ]
    }
   ],
   "source": [
    "y=8\n",
    "if y % 2 == 1:\n",
    "    print (str(y) + \" bilangan ganjil\")\n",
    "else :\n",
    "    print (str(y) + \" bilangan genap\")"
   ]
  },
  {
   "cell_type": "code",
   "execution_count": 82,
   "metadata": {},
   "outputs": [
    {
     "name": "stdout",
     "output_type": "stream",
     "text": [
      "E\n"
     ]
    }
   ],
   "source": [
    "z=-1000\n",
    "if z < 50:\n",
    "    print (\"E\")\n",
    "elif z == 50:\n",
    "    print (\"D\")\n",
    "else:\n",
    "    print(\"C\")"
   ]
  },
  {
   "cell_type": "code",
   "execution_count": 83,
   "metadata": {
    "collapsed": true
   },
   "outputs": [],
   "source": [
    "def nilaimu(amount):\n",
    "    print (amount)"
   ]
  },
  {
   "cell_type": "code",
   "execution_count": 85,
   "metadata": {},
   "outputs": [
    {
     "name": "stdout",
     "output_type": "stream",
     "text": [
      "51\n"
     ]
    }
   ],
   "source": [
    "x =\"51\"\n",
    "nilaimu(x)"
   ]
  },
  {
   "cell_type": "code",
   "execution_count": 86,
   "metadata": {},
   "outputs": [
    {
     "name": "stdout",
     "output_type": "stream",
     "text": [
      "51\n"
     ]
    }
   ],
   "source": [
    "a=51\n",
    "nilaimu(a)"
   ]
  },
  {
   "cell_type": "code",
   "execution_count": 87,
   "metadata": {
    "collapsed": true
   },
   "outputs": [],
   "source": [
    "def kurangi (amount):\n",
    "    amount = amount -50\n",
    "    return amount"
   ]
  },
  {
   "cell_type": "code",
   "execution_count": 88,
   "metadata": {},
   "outputs": [
    {
     "data": {
      "text/plain": [
       "1"
      ]
     },
     "execution_count": 88,
     "metadata": {},
     "output_type": "execute_result"
    }
   ],
   "source": [
    "kurangi(a)"
   ]
  },
  {
   "cell_type": "code",
   "execution_count": 89,
   "metadata": {
    "collapsed": true
   },
   "outputs": [],
   "source": [
    "amount =100"
   ]
  },
  {
   "cell_type": "code",
   "execution_count": 90,
   "metadata": {
    "collapsed": true
   },
   "outputs": [],
   "source": [
    "def kurangi(x):\n",
    "    global amount\n",
    "    x= x-amount\n",
    "    return (x)"
   ]
  },
  {
   "cell_type": "code",
   "execution_count": 92,
   "metadata": {},
   "outputs": [
    {
     "data": {
      "text/plain": [
       "50"
      ]
     },
     "execution_count": 92,
     "metadata": {},
     "output_type": "execute_result"
    }
   ],
   "source": [
    "kurangi(150)"
   ]
  },
  {
   "cell_type": "code",
   "execution_count": 93,
   "metadata": {
    "collapsed": true
   },
   "outputs": [],
   "source": [
    "a=1 "
   ]
  },
  {
   "cell_type": "code",
   "execution_count": 95,
   "metadata": {},
   "outputs": [
    {
     "ename": "SyntaxError",
     "evalue": "invalid syntax (<ipython-input-95-bccc4cb64d09>, line 1)",
     "output_type": "error",
     "traceback": [
      "\u001b[1;36m  File \u001b[1;32m\"<ipython-input-95-bccc4cb64d09>\"\u001b[1;36m, line \u001b[1;32m1\u001b[0m\n\u001b[1;33m    if a =1:\u001b[0m\n\u001b[1;37m         ^\u001b[0m\n\u001b[1;31mSyntaxError\u001b[0m\u001b[1;31m:\u001b[0m invalid syntax\n"
     ]
    }
   ],
   "source": [
    "if a = 1:\n",
    "    print (\"satu\")\n",
    "else : \n",
    "    print (\"dua\")"
   ]
  },
  {
   "cell_type": "markdown",
   "metadata": {},
   "source": [
    "# Tuple"
   ]
  },
  {
   "cell_type": "code",
   "execution_count": 103,
   "metadata": {
    "collapsed": true
   },
   "outputs": [],
   "source": [
    "tupel = (\"fifi\", \"fika\", \"via\")"
   ]
  },
  {
   "cell_type": "code",
   "execution_count": 104,
   "metadata": {
    "collapsed": true
   },
   "outputs": [],
   "source": [
    "list = [\"fifi\", \"fika\", \"via\"]"
   ]
  },
  {
   "cell_type": "code",
   "execution_count": 105,
   "metadata": {},
   "outputs": [
    {
     "data": {
      "text/plain": [
       "'fifi'"
      ]
     },
     "execution_count": 105,
     "metadata": {},
     "output_type": "execute_result"
    }
   ],
   "source": [
    "list[0]"
   ]
  },
  {
   "cell_type": "code",
   "execution_count": 106,
   "metadata": {
    "collapsed": true
   },
   "outputs": [],
   "source": [
    "list[0] = \"bu farida\""
   ]
  },
  {
   "cell_type": "code",
   "execution_count": 107,
   "metadata": {},
   "outputs": [
    {
     "data": {
      "text/plain": [
       "['bu farida', 'fika', 'via']"
      ]
     },
     "execution_count": 107,
     "metadata": {},
     "output_type": "execute_result"
    }
   ],
   "source": [
    "list"
   ]
  },
  {
   "cell_type": "code",
   "execution_count": 108,
   "metadata": {},
   "outputs": [
    {
     "ename": "TypeError",
     "evalue": "'tuple' object is not callable",
     "output_type": "error",
     "traceback": [
      "\u001b[1;31m---------------------------------------------------------------------------\u001b[0m",
      "\u001b[1;31mTypeError\u001b[0m                                 Traceback (most recent call last)",
      "\u001b[1;32m<ipython-input-108-997e1ebb6450>\u001b[0m in \u001b[0;36m<module>\u001b[1;34m()\u001b[0m\n\u001b[1;32m----> 1\u001b[1;33m \u001b[0mtupel\u001b[0m\u001b[1;33m(\u001b[0m\u001b[1;36m1\u001b[0m\u001b[1;33m)\u001b[0m\u001b[1;33m\u001b[0m\u001b[0m\n\u001b[0m",
      "\u001b[1;31mTypeError\u001b[0m: 'tuple' object is not callable"
     ]
    }
   ],
   "source": [
    "tupel(1)"
   ]
  },
  {
   "cell_type": "markdown",
   "metadata": {},
   "source": [
    "# Dictionary"
   ]
  },
  {
   "cell_type": "code",
   "execution_count": 97,
   "metadata": {
    "collapsed": true
   },
   "outputs": [],
   "source": [
    "kamus = {\"Apel\":1, \"Durian\":2, \"Jeruk\":3}"
   ]
  },
  {
   "cell_type": "code",
   "execution_count": 98,
   "metadata": {},
   "outputs": [
    {
     "data": {
      "text/plain": [
       "1"
      ]
     },
     "execution_count": 98,
     "metadata": {},
     "output_type": "execute_result"
    }
   ],
   "source": [
    "kamus['Apel']"
   ]
  },
  {
   "cell_type": "code",
   "execution_count": 99,
   "metadata": {
    "collapsed": true
   },
   "outputs": [],
   "source": [
    "Kamus_2 = {\"apel\":1, \"durian\" : 1, \"manggis\": 3}"
   ]
  },
  {
   "cell_type": "code",
   "execution_count": 100,
   "metadata": {},
   "outputs": [
    {
     "data": {
      "text/plain": [
       "1"
      ]
     },
     "execution_count": 100,
     "metadata": {},
     "output_type": "execute_result"
    }
   ],
   "source": [
    "Kamus_2['durian']"
   ]
  },
  {
   "cell_type": "code",
   "execution_count": 101,
   "metadata": {
    "collapsed": true
   },
   "outputs": [],
   "source": [
    "kamus_3 = {\"apel\":1, \"durian\":2, \"manggis\":3, \"durian\":5}"
   ]
  },
  {
   "cell_type": "code",
   "execution_count": 102,
   "metadata": {},
   "outputs": [
    {
     "data": {
      "text/plain": [
       "5"
      ]
     },
     "execution_count": 102,
     "metadata": {},
     "output_type": "execute_result"
    }
   ],
   "source": [
    "kamus_3['durian']"
   ]
  },
  {
   "cell_type": "code",
   "execution_count": 115,
   "metadata": {
    "collapsed": true
   },
   "outputs": [],
   "source": [
    "angka = {1:\"satu\", 2:\"dua\"}\n",
    "def bilangan(angka):\n",
    "    print (angka)"
   ]
  },
  {
   "cell_type": "code",
   "execution_count": 117,
   "metadata": {},
   "outputs": [
    {
     "ename": "TypeError",
     "evalue": "'int' object is not callable",
     "output_type": "error",
     "traceback": [
      "\u001b[1;31m---------------------------------------------------------------------------\u001b[0m",
      "\u001b[1;31mTypeError\u001b[0m                                 Traceback (most recent call last)",
      "\u001b[1;32m<ipython-input-117-50beb3cd494b>\u001b[0m in \u001b[0;36m<module>\u001b[1;34m()\u001b[0m\n\u001b[1;32m----> 1\u001b[1;33m \u001b[0mangka\u001b[0m\u001b[1;33m(\u001b[0m\u001b[1;36m1\u001b[0m\u001b[1;33m)\u001b[0m\u001b[1;33m\u001b[0m\u001b[0m\n\u001b[0m",
      "\u001b[1;31mTypeError\u001b[0m: 'int' object is not callable"
     ]
    }
   ],
   "source": [
    "angka(1)"
   ]
  },
  {
   "cell_type": "code",
   "execution_count": 6,
   "metadata": {
    "collapsed": true
   },
   "outputs": [],
   "source": [
    "def munculkan(bilangan) :\n",
    "    if bilangan == 1:\n",
    "        print (\"satu\")\n",
    "    elif bilangan == 2:\n",
    "        print (\"dua\")\n",
    "    elif bilangan == 3:\n",
    "        print (\"tiga\")\n",
    "    elif bilangan == 4:\n",
    "        print (\"empat\")\n",
    "    elif bilangan == 5:\n",
    "        print (\"lima\")  \n",
    "    elif bilangan == 6:\n",
    "        print (\"enam\")\n",
    "    elif bilangan == 7:\n",
    "        print (\"tujuh\")\n",
    "    elif bilangan == 8:\n",
    "        print (\"delapan\")\n",
    "    elif bilangan == 9:\n",
    "        print (\"sembilan\")\n",
    "    elif bilangan == 10:\n",
    "        print (\"sepuluh\")\n",
    "    else:\n",
    "        print(\"diatas sepuluh\")"
   ]
  },
  {
   "cell_type": "code",
   "execution_count": 7,
   "metadata": {},
   "outputs": [
    {
     "name": "stdout",
     "output_type": "stream",
     "text": [
      "lima\n"
     ]
    }
   ],
   "source": [
    "munculkan(5)"
   ]
  },
  {
   "cell_type": "code",
   "execution_count": 8,
   "metadata": {},
   "outputs": [
    {
     "name": "stdout",
     "output_type": "stream",
     "text": [
      "diatas sepuluh\n"
     ]
    }
   ],
   "source": [
    "munculkan(11)"
   ]
  },
  {
   "cell_type": "code",
   "execution_count": 9,
   "metadata": {
    "collapsed": true
   },
   "outputs": [],
   "source": [
    "angka = [1, 2, 3, 4, 5, 6, 7, 8, 9, 10]\n",
    "bilangan = [\"satu\", \"dua\", \"tiga\", \"empat\", \"lima\", \"enam\", \"tujuh\", \"delapan\", \"sembilan\", \"sepuluh\"]"
   ]
  },
  {
   "cell_type": "code",
   "execution_count": 10,
   "metadata": {},
   "outputs": [
    {
     "name": "stdout",
     "output_type": "stream",
     "text": [
      "sepuluh\n"
     ]
    }
   ],
   "source": [
    "munculkan(10)"
   ]
  },
  {
   "cell_type": "code",
   "execution_count": 18,
   "metadata": {
    "collapsed": true
   },
   "outputs": [],
   "source": [
    "satuan = [ \"dua\", \"tiga\", \"empat\", \"lima\", \"enam\", \"tujuh\", \"delapan\", \"sembilan\"]\n",
    "def munculkan(bilangan) :\n",
    "    if bilangan == 1:\n",
    "        print (\"satu\")\n",
    "    elif bilangan == 2:\n",
    "        print (\"dua\")\n",
    "    elif bilangan == 3:\n",
    "        print (\"tiga\")\n",
    "    elif bilangan == 4:\n",
    "        print (\"empat\")\n",
    "    elif bilangan == 5:\n",
    "        print (\"lima\")  \n",
    "    elif bilangan == 6:\n",
    "        print (\"enam\")\n",
    "    elif bilangan == 7:\n",
    "        print (\"tujuh\")\n",
    "    elif bilangan == 8:\n",
    "        print (\"delapan\")\n",
    "    elif bilangan == 9:\n",
    "        print (\"sembilan\")\n",
    "    elif bilangan == 10:\n",
    "        print (\"sepuluh\")\n",
    "    elif bilangan == 11:\n",
    "        print (\"sebelas\")\n",
    "    else:\n",
    "        while 11 < bilangan < 20 :\n",
    "            print (str(satuan) + \" belas \" )\n",
    "            bilangan=bilangan+1"
   ]
  },
  {
   "cell_type": "code",
   "execution_count": 19,
   "metadata": {},
   "outputs": [
    {
     "name": "stdout",
     "output_type": "stream",
     "text": [
      "['dua', 'tiga', 'empat', 'lima', 'enam', 'tujuh', 'delapan', 'sembilan'] belas \n",
      "['dua', 'tiga', 'empat', 'lima', 'enam', 'tujuh', 'delapan', 'sembilan'] belas \n",
      "['dua', 'tiga', 'empat', 'lima', 'enam', 'tujuh', 'delapan', 'sembilan'] belas \n",
      "['dua', 'tiga', 'empat', 'lima', 'enam', 'tujuh', 'delapan', 'sembilan'] belas \n",
      "['dua', 'tiga', 'empat', 'lima', 'enam', 'tujuh', 'delapan', 'sembilan'] belas \n",
      "['dua', 'tiga', 'empat', 'lima', 'enam', 'tujuh', 'delapan', 'sembilan'] belas \n",
      "['dua', 'tiga', 'empat', 'lima', 'enam', 'tujuh', 'delapan', 'sembilan'] belas \n",
      "['dua', 'tiga', 'empat', 'lima', 'enam', 'tujuh', 'delapan', 'sembilan'] belas \n"
     ]
    }
   ],
   "source": [
    "munculkan(12)"
   ]
  },
  {
   "cell_type": "code",
   "execution_count": 22,
   "metadata": {
    "collapsed": true
   },
   "outputs": [],
   "source": [
    "satuan = [\"satu\", \"dua\", \"tiga\", \"empat\", \"lima\", \"enam\", \"tujuh\", \"delapan\", \"sembilan\", \"sepuluh\", \"sebelas\"]\n",
    "def munculkan(bilangan) :\n",
    "    if bilangan == 1:\n",
    "        print (satuan[0])\n",
    "    elif bilangan == 2:\n",
    "        print (satuan[1])\n",
    "    elif bilangan == 3:\n",
    "        print (satuan[2])\n",
    "    elif bilangan == 4:\n",
    "        print (satuan[3])\n",
    "    elif bilangan == 5:\n",
    "        print (satuan[4])  \n",
    "    elif bilangan == 6:\n",
    "        print (satuan[5])\n",
    "    elif bilangan == 7:\n",
    "        print (satuan[6])\n",
    "    elif bilangan == 8:\n",
    "        print (satuan[7])\n",
    "    elif bilangan == 9:\n",
    "        print (satuan[8])\n",
    "    elif bilangan == 10:\n",
    "        print (satuan[9])\n",
    "    elif bilangan == 11:\n",
    "        print (satuan[10])\n",
    "    elif 11 < bilangan < 20:\n",
    "        for d in range(len(satuan)) :\n",
    "            d = d - 11\n",
    "            print (str(satuan[d]) + \" belas \" )\n",
    "            return d\n",
    "    elif 20 < bilangan < 30 :\n",
    "        for e in range(len(satuan)):\n",
    "            print(satuan[1] + \" puluh \" + str(satuan[e]))\n",
    "    elif 30 < bilangan < 40 :\n",
    "        for f in range(len(satuan)):\n",
    "            print(satuan[2] + \" puluh \" + str(satuan[f]))\n",
    "    elif 40 < bilangan < 50 :\n",
    "        for g in range(len(satuan)):\n",
    "            print (satuan[3] + \" puluh \" + str(satuan[g]))\n",
    "    elif 50 < bilangan < 60 :\n",
    "        for h in range(len(satuan)):\n",
    "            print (satuan[4] + \" puluh \" + str(satuan[h]))\n",
    "    elif 60 < bilangan < 70 :\n",
    "        for i in range(len(satuan)):\n",
    "            print (satuan[5] + \" puluh \" + str(satuan[i]))\n",
    "    elif 70 < bilangan < 80 :\n",
    "        for j in range(len(satuan)):\n",
    "            print (satuan[6] + \" puluh \" + str(satuan[j]))\n",
    "    elif 80 < bilangan < 90 :\n",
    "        for k in range(len(satuan)):\n",
    "            print (satuan[7] + \" puluh \" + str(satuan[k]))\n",
    "    elif 90 < bilangan < 100 :\n",
    "        for l in range(len(satuan)):\n",
    "            print (satuan[8] + \" puluh \" + str(satuan[l]))\n",
    "    elif bilangan == 20:\n",
    "        print (satuan[1] + \" puluh\")\n",
    "    elif bilangan == 30:\n",
    "        print (satuan[2] + \" puluh \")\n",
    "    elif bilangan == 40:\n",
    "        print (satuan[3] + \" puluh \")\n",
    "    elif bilangan == 50:\n",
    "        print (satuan[4] + \" puluh \")  \n",
    "    elif bilangan == 60:\n",
    "        print (satuan[5] + \" puluh \")\n",
    "    elif bilangan == 70:\n",
    "        print (satuan[6] + \" puluh \")\n",
    "    elif bilangan == 80:\n",
    "        print (satuan[7] + \" puluh \")\n",
    "    elif bilangan == 90:\n",
    "        print (satuan[8] + \" puluh\")\n",
    "    else:\n",
    "        print (\" diatas seratus \")\n",
    "    return (bilangan)"
   ]
  },
  {
   "cell_type": "code",
   "execution_count": 23,
   "metadata": {},
   "outputs": [
    {
     "name": "stdout",
     "output_type": "stream",
     "text": [
      "satu belas \n"
     ]
    },
    {
     "data": {
      "text/plain": [
       "-11"
      ]
     },
     "execution_count": 23,
     "metadata": {},
     "output_type": "execute_result"
    }
   ],
   "source": [
    "munculkan (15)"
   ]
  },
  {
   "cell_type": "code",
   "execution_count": 90,
   "metadata": {},
   "outputs": [
    {
     "data": {
      "text/plain": [
       "'tiga'"
      ]
     },
     "execution_count": 90,
     "metadata": {},
     "output_type": "execute_result"
    }
   ],
   "source": [
    "satuan[2]"
   ]
  },
  {
   "cell_type": "code",
   "execution_count": 8,
   "metadata": {},
   "outputs": [
    {
     "ename": "IndentationError",
     "evalue": "expected an indented block (<ipython-input-8-0c0bc17344e0>, line 2)",
     "output_type": "error",
     "traceback": [
      "\u001b[1;36m  File \u001b[1;32m\"<ipython-input-8-0c0bc17344e0>\"\u001b[1;36m, line \u001b[1;32m2\u001b[0m\n\u001b[1;33m    return d-10\u001b[0m\n\u001b[1;37m         ^\u001b[0m\n\u001b[1;31mIndentationError\u001b[0m\u001b[1;31m:\u001b[0m expected an indented block\n"
     ]
    }
   ],
   "source": [
    "\n",
    "for d in range(len(satuan)) :\n",
    "    d-10\n",
    "    print ( satuan[d] + \" belas \" )"
   ]
  },
  {
   "cell_type": "code",
   "execution_count": 20,
   "metadata": {
    "collapsed": true
   },
   "outputs": [],
   "source": [
    "def puluhan (angka):\n",
    "    angka = angka - 11\n",
    "    print (str(satuan[angka]) + \" belas \" )\n",
    "    return angka"
   ]
  },
  {
   "cell_type": "code",
   "execution_count": 21,
   "metadata": {},
   "outputs": [
    {
     "name": "stdout",
     "output_type": "stream",
     "text": [
      "lima belas \n"
     ]
    },
    {
     "data": {
      "text/plain": [
       "4"
      ]
     },
     "execution_count": 21,
     "metadata": {},
     "output_type": "execute_result"
    }
   ],
   "source": [
    "puluhan(15)"
   ]
  },
  {
   "cell_type": "code",
   "execution_count": 24,
   "metadata": {},
   "outputs": [
    {
     "data": {
      "text/plain": [
       "10"
      ]
     },
     "execution_count": 24,
     "metadata": {},
     "output_type": "execute_result"
    }
   ],
   "source": [
    "d"
   ]
  },
  {
   "cell_type": "code",
   "execution_count": 1,
   "metadata": {
    "collapsed": true
   },
   "outputs": [],
   "source": [
    "satuan = [\"satu\", \"dua\", \"tiga\", \"empat\", \"lima\", \"enam\", \"tujuh\", \"delapan\", \"sembilan\", \"sepuluh\", \"sebelas\"]\n",
    "def munculkan(bilangan) :\n",
    "    if bilangan == 1:\n",
    "        return (satuan[0])\n",
    "    elif bilangan == 2:\n",
    "        return (satuan[1])\n",
    "    elif bilangan == 3:\n",
    "        return (satuan[2])\n",
    "    elif bilangan == 4:\n",
    "        return (satuan[3])\n",
    "    elif bilangan == 5:\n",
    "        return (satuan[4])  \n",
    "    elif bilangan == 6:\n",
    "        return (satuan[5])\n",
    "    elif bilangan == 7:\n",
    "        return (satuan[6])\n",
    "    elif bilangan == 8:\n",
    "        return (satuan[7])\n",
    "    elif bilangan == 9:\n",
    "        return (satuan[8])\n",
    "    elif bilangan == 10:\n",
    "        return (satuan[9])\n",
    "    elif bilangan == 11:\n",
    "        return (satuan[10])\n",
    "    elif 11 < bilangan < 20:\n",
    "        bilangan = bilangan - 11\n",
    "        return (str(satuan[bilangan]) + \" belas\" )\n",
    "    elif 20 < bilangan < 30 :\n",
    "        bilangan = bilangan - 21\n",
    "        return (satuan[1] + \" puluh \" + str(satuan[bilangan]))\n",
    "    elif 30 < bilangan < 40 :\n",
    "        bilangan = bilangan - 31\n",
    "        return (satuan[2] + \" puluh \" + str(satuan[bilangan]))\n",
    "    elif 40 < bilangan < 50 :\n",
    "        bilangan = bilangan - 41\n",
    "        return (satuan[3] + \" puluh \" + str(satuan[bilangan]))\n",
    "    elif 50 < bilangan < 60 :\n",
    "        bilangan = bilangan - 51\n",
    "        return (satuan[4] + \" puluh \" + str(satuan[bilangan]))\n",
    "    elif 60 < bilangan < 70 :\n",
    "        bilangan = bilangan - 61\n",
    "        return (satuan[5] + \" puluh \" + str(satuan[bilangan]))\n",
    "    elif 70 < bilangan < 80 :\n",
    "        bilangan = bilangan - 71\n",
    "        return (satuan[6] + \" puluh \" + str(satuan[bilangan]))\n",
    "    elif 80 < bilangan < 90 :\n",
    "        bilangan = bilangan - 81\n",
    "        return (satuan[7] + \" puluh \" + str(satuan[bilangan]))\n",
    "    elif 90 < bilangan < 100 :\n",
    "        bilangan = bilangan - 91\n",
    "        return (satuan[8] + \" puluh \" + str(satuan[bilangan]))\n",
    "    elif bilangan == 20:\n",
    "        return (satuan[1] + \" puluh\")\n",
    "    elif bilangan == 30:\n",
    "        return (satuan[2] + \" puluh\")\n",
    "    elif bilangan == 40:\n",
    "        return (satuan[3] + \" puluh\")\n",
    "    elif bilangan == 50:\n",
    "        return (satuan[4] + \" puluh\")  \n",
    "    elif bilangan == 60:\n",
    "        return (satuan[5] + \" puluh\")\n",
    "    elif bilangan == 70:\n",
    "        return (satuan[6] + \" puluh\")\n",
    "    elif bilangan == 80:\n",
    "        return (satuan[7] + \" puluh\")\n",
    "    elif bilangan == 90:\n",
    "        return (satuan[8] + \" puluh\")\n",
    "    elif bilangan == 100:\n",
    "        return (\"alhamdulillah akhirnya seratus\")\n",
    "    else:\n",
    "        return (\" diatas seratus\")"
   ]
  },
  {
   "cell_type": "code",
   "execution_count": 7,
   "metadata": {},
   "outputs": [
    {
     "data": {
      "text/plain": [
       "'lima belas'"
      ]
     },
     "execution_count": 7,
     "metadata": {},
     "output_type": "execute_result"
    }
   ],
   "source": [
    "munculkan(15)"
   ]
  },
  {
   "cell_type": "code",
   "execution_count": null,
   "metadata": {
    "collapsed": true
   },
   "outputs": [],
   "source": []
  }
 ],
 "metadata": {
  "kernelspec": {
   "display_name": "Python 3",
   "language": "python",
   "name": "python3"
  },
  "language_info": {
   "codemirror_mode": {
    "name": "ipython",
    "version": 3
   },
   "file_extension": ".py",
   "mimetype": "text/x-python",
   "name": "python",
   "nbconvert_exporter": "python",
   "pygments_lexer": "ipython3",
   "version": "3.6.1"
  }
 },
 "nbformat": 4,
 "nbformat_minor": 2
}
